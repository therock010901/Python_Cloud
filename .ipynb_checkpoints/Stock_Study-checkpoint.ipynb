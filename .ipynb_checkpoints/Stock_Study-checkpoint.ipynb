{
 "cells": [
  {
   "cell_type": "code",
   "execution_count": 2,
   "id": "5346fc56",
   "metadata": {},
   "outputs": [],
   "source": [
    "import requests\n",
    "import json\n",
    "\n",
    "api_key = 'PS0y8T25b1m957oFdIqd7EMlHfI6epj661q5'\n",
    "secret_key = 'Uqbpla1vu9YaFvwMR2EGKxkEgayARA6WDlY2du0sDm7umpYCj9cTN41o9McmSOgOpR21z3dvkS904wV+/6WRckGJy3+PG5LJaOJG71qy5Abme/JOch7xXVTNHxAHnuxYL76TX97Xn6Qroz67WkC7KqQSlQmgluuASbw9oZt7FYHiEtbcsSg='\n",
    "\n",
    "base_url = 'https://openapi.koreainvestment.com:9443'\n",
    "\n",
    "headers = {\"content-type\":\"application/json\"}\n",
    "body = {\n",
    "        \"grant_type\":\"client_credentials\",\n",
    "        \"appkey\":api_key, \n",
    "        \"appsecret\":secret_key,\n",
    "        }\n",
    "url = base_url + '/oauth2/tokenP'\n",
    "res = requests.post(url, headers=headers, data=json.dumps(body)).json()\n",
    "\n",
    "access_token = res['access_token']"
   ]
  },
  {
   "cell_type": "code",
   "execution_count": 4,
   "id": "1d53b864",
   "metadata": {},
   "outputs": [],
   "source": [
    "def get_header(tr_id):\n",
    "    headers = {\"content-type\":\"application/json\",\n",
    "            \"appkey\":api_key, \n",
    "            \"appsecret\":secret_key,\n",
    "            \"authorization\":f\"Bearer {access_token}\",\n",
    "            \"tr_id\":tr_id,\n",
    "            }\n",
    "    return headers"
   ]
  },
  {
   "cell_type": "code",
   "execution_count": 5,
   "id": "fb64da00",
   "metadata": {},
   "outputs": [],
   "source": [
    "import requests\n",
    "import pandas as pd\n",
    "import json\n",
    "\n",
    "base_url = 'https://openapi.koreainvestment.com:9443'\n",
    "\n",
    "# 파라미터 설정 \n",
    "ticker = '005930' # 삼성전자 티커\n",
    "api_starttime = '00000101' # 0000년 1월 1일부터\n",
    "api_endtime = '99991231' # 9999년 12월 31일까지의 데이터\n",
    "api_freq = 'D' # 일봉\n",
    "api_adj_price = True # 수정주가로 받아오기\n",
    "\n",
    "# headers, params 제작\n",
    "headers = get_header('FHKST03010100')\n",
    "params = {\n",
    "        \"fid_cond_mrkt_div_code\":\"J\",\n",
    "        \"fid_input_iscd\": ticker,\n",
    "        \"fid_input_date_1\":api_starttime,\n",
    "        \"fid_input_date_2\":api_endtime,\n",
    "        \"fid_period_div_code\":api_freq,\n",
    "        \"fid_org_adj_prc\":0 if api_adj_price else 1,\n",
    "        }\n",
    "        \n",
    "# 데이터 수신 및 정제\n",
    "url = base_url + '/uapi/domestic-stock/v1/quotations/inquire-daily-itemchartprice'\n",
    "temp = requests.get(url, headers=headers, params=params).json()['output2'][::-1]\n",
    "temp = pd.DataFrame(temp)\n",
    "temp = temp.rename(columns={'stck_bsop_date':'timestamp','stck_clpr':'close','stck_oprc':'open','stck_hgpr':'high','stck_lwpr':'low','acml_vol':'volume'})\n",
    "temp[['close','open','high','low','volume']] = temp[['close','open','high','low','volume']].astype(float)"
   ]
  },
  {
   "cell_type": "code",
   "execution_count": null,
   "id": "e5303260",
   "metadata": {},
   "outputs": [],
   "source": []
  }
 ],
 "metadata": {
  "kernelspec": {
   "display_name": "Python 3",
   "language": "python",
   "name": "python3"
  },
  "language_info": {
   "codemirror_mode": {
    "name": "ipython",
    "version": 3
   },
   "file_extension": ".py",
   "mimetype": "text/x-python",
   "name": "python",
   "nbconvert_exporter": "python",
   "pygments_lexer": "ipython3",
   "version": "3.6.9"
  }
 },
 "nbformat": 4,
 "nbformat_minor": 5
}
